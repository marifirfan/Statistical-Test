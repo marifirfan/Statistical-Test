{
 "cells": [
  {
   "cell_type": "markdown",
   "metadata": {},
   "source": [
    "Pemodelan Regresi 100 data 5 variabel"
   ]
  },
  {
   "cell_type": "code",
   "execution_count": null,
   "metadata": {},
   "outputs": [],
   "source": [
    "import pandas as pd\n",
    "import numpy as np\n",
    "\n",
    "# Mengganti 'nama_file.csv' dengan nama file CSV yang sesuai\n",
    "file_path = 'CancerPatientDataSets.csv'\n",
    "\n",
    "# Membaca data dari file CSV\n",
    "data = pd.read_csv(file_path, delimiter=';')\n",
    "\n",
    "# Memilih 5 variabel independen yang numerik\n",
    "independent_variables = ['Occupational_Hazards','Genetic_Risk','Smoking','Passive_Smoker','Coughing_of_Blood']\n",
    "\n",
    "# Menambahkan kolom konstanta ke variabel independen\n",
    "X = np.column_stack((np.ones(len(data)), data[independent_variables]))\n",
    "\n",
    "# Variabel dependen yang ingin diprediksi\n",
    "y = data['Chronic_Lung_Disease']  # Ganti 'Target_Variable' dengan variabel dependen yang sesuai\n",
    "\n",
    "# Menghitung matriks (X'X) inverse\n",
    "XtX_inv = np.linalg.inv(np.dot(X.T, X))\n",
    "\n",
    "# Menghitung matriks (X'Y)\n",
    "XtY = np.dot(X.T, y)\n",
    "\n",
    "# Menghitung koefisien regresi\n",
    "beta = np.dot(XtX_inv, XtY)\n",
    "\n",
    "# Menampilkan koefisien regresi\n",
    "print(\"Koefisien Regresi:\")\n",
    "for i, var in enumerate(['Intercept'] + independent_variables):\n",
    "    print(f\"{var}: {beta[i]}\")\n"
   ]
  }
 ],
 "metadata": {
  "kernelspec": {
   "display_name": "Python 3",
   "language": "python",
   "name": "python3"
  },
  "language_info": {
   "codemirror_mode": {
    "name": "ipython",
    "version": 3
   },
   "file_extension": ".py",
   "mimetype": "text/x-python",
   "name": "python",
   "nbconvert_exporter": "python",
   "pygments_lexer": "ipython3",
   "version": "3.11.5"
  }
 },
 "nbformat": 4,
 "nbformat_minor": 2
}
